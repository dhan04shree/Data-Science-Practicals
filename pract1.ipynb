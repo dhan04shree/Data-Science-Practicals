{
 "cells": [
  {
   "cell_type": "code",
   "execution_count": 1,
   "metadata": {},
   "outputs": [
    {
     "name": "stdout",
     "output_type": "stream",
     "text": [
      "       Patient_ID  Age  Gender  Cholesterol_Level  Blood_Pressure_Systolic  \\\n",
      "0               1   76  Female                156                       94   \n",
      "1               2   39  Female                160                      185   \n",
      "2               3   85    Male                254                      173   \n",
      "3               4   45  Female                261                      187   \n",
      "4               5   48    Male                206                      189   \n",
      "...           ...  ...     ...                ...                      ...   \n",
      "99995       99996   55  Female                187                      159   \n",
      "99996       99997   84    Male                172                      169   \n",
      "99997       99998   67  Female                299                      134   \n",
      "99998       99999   33    Male                221                      160   \n",
      "99999      100000   82    Male                176                       94   \n",
      "\n",
      "       Blood_Pressure_Diastolic Smoking_Status Alcohol_Intake  \\\n",
      "0                            79             No           High   \n",
      "1                            88             No            Low   \n",
      "2                           113            Yes       Moderate   \n",
      "3                            65             No           High   \n",
      "4                            84             No            Low   \n",
      "...                         ...            ...            ...   \n",
      "99995                        88            Yes       Moderate   \n",
      "99996                        86            Yes            Low   \n",
      "99997                        90             No            Low   \n",
      "99998                        99             No           High   \n",
      "99999                        91             No           High   \n",
      "\n",
      "      Physical_Activity  Obesity_Index Diabetes_Status  \\\n",
      "0             Sedentary           35.2              No   \n",
      "1             Sedentary           21.3              No   \n",
      "2         Highly Active           32.0             Yes   \n",
      "3             Sedentary           36.4              No   \n",
      "4                Active           26.6              No   \n",
      "...                 ...            ...             ...   \n",
      "99995         Sedentary           32.9              No   \n",
      "99996            Active           24.0              No   \n",
      "99997            Active           32.4             Yes   \n",
      "99998            Active           39.1              No   \n",
      "99999            Active           20.3              No   \n",
      "\n",
      "      Family_History_Heart_Disease Diet_Quality Stress_Level  \\\n",
      "0                               No         Good         High   \n",
      "1                               No      Average       Medium   \n",
      "2                               No         Good          Low   \n",
      "3                              Yes      Average          Low   \n",
      "4                               No         Good         High   \n",
      "...                            ...          ...          ...   \n",
      "99995                           No      Average         High   \n",
      "99996                           No         Poor       Medium   \n",
      "99997                          Yes      Average          Low   \n",
      "99998                          Yes      Average         High   \n",
      "99999                           No         Poor       Medium   \n",
      "\n",
      "      Heart_Attack_History Medication_Usage  Triglycerides_Level  LDL_Level  \\\n",
      "0                       No               No                  264        141   \n",
      "1                       No              Yes                  150         81   \n",
      "2                       No               No                  220        124   \n",
      "3                       No              Yes                  141         56   \n",
      "4                       No               No                  221        186   \n",
      "...                    ...              ...                  ...        ...   \n",
      "99995                   No              Yes                  225        158   \n",
      "99996                   No               No                  159        110   \n",
      "99997                  Yes               No                  219        141   \n",
      "99998                   No              Yes                  131        191   \n",
      "99999                   No               No                   88        169   \n",
      "\n",
      "       HDL_Level  Heart_Attack_Outcome  \n",
      "0             65                     0  \n",
      "1             42                     0  \n",
      "2             70                     1  \n",
      "3             38                     1  \n",
      "4             26                     0  \n",
      "...          ...                   ...  \n",
      "99995         48                     1  \n",
      "99996         24                     1  \n",
      "99997         22                     1  \n",
      "99998         61                     1  \n",
      "99999         64                     0  \n",
      "\n",
      "[100000 rows x 20 columns]\n"
     ]
    }
   ],
   "source": [
    "import pandas as pd\n",
    "df = pd.read_csv(\"heart_attack_south_africa.csv\")\n",
    "print(df)"
   ]
  },
  {
   "cell_type": "code",
   "execution_count": 2,
   "metadata": {},
   "outputs": [
    {
     "name": "stdout",
     "output_type": "stream",
     "text": [
      "   Patient_ID  Age  Gender  Cholesterol_Level  Blood_Pressure_Systolic  \\\n",
      "0           1   76  Female                156                       94   \n",
      "1           2   39  Female                160                      185   \n",
      "2           3   85    Male                254                      173   \n",
      "3           4   45  Female                261                      187   \n",
      "4           5   48    Male                206                      189   \n",
      "\n",
      "   Blood_Pressure_Diastolic Smoking_Status Alcohol_Intake Physical_Activity  \\\n",
      "0                        79             No           High         Sedentary   \n",
      "1                        88             No            Low         Sedentary   \n",
      "2                       113            Yes       Moderate     Highly Active   \n",
      "3                        65             No           High         Sedentary   \n",
      "4                        84             No            Low            Active   \n",
      "\n",
      "   Obesity_Index Diabetes_Status Family_History_Heart_Disease Diet_Quality  \\\n",
      "0           35.2              No                           No         Good   \n",
      "1           21.3              No                           No      Average   \n",
      "2           32.0             Yes                           No         Good   \n",
      "3           36.4              No                          Yes      Average   \n",
      "4           26.6              No                           No         Good   \n",
      "\n",
      "  Stress_Level Heart_Attack_History Medication_Usage  Triglycerides_Level  \\\n",
      "0         High                   No               No                  264   \n",
      "1       Medium                   No              Yes                  150   \n",
      "2          Low                   No               No                  220   \n",
      "3          Low                   No              Yes                  141   \n",
      "4         High                   No               No                  221   \n",
      "\n",
      "   LDL_Level  HDL_Level  Heart_Attack_Outcome  \n",
      "0        141         65                     0  \n",
      "1         81         42                     0  \n",
      "2        124         70                     1  \n",
      "3         56         38                     1  \n",
      "4        186         26                     0  \n"
     ]
    }
   ],
   "source": [
    "print(df.head())"
   ]
  },
  {
   "cell_type": "code",
   "execution_count": 3,
   "metadata": {},
   "outputs": [
    {
     "data": {
      "text/plain": [
       "Patient_ID                      0\n",
       "Age                             0\n",
       "Gender                          0\n",
       "Cholesterol_Level               0\n",
       "Blood_Pressure_Systolic         0\n",
       "Blood_Pressure_Diastolic        0\n",
       "Smoking_Status                  0\n",
       "Alcohol_Intake                  0\n",
       "Physical_Activity               0\n",
       "Obesity_Index                   0\n",
       "Diabetes_Status                 0\n",
       "Family_History_Heart_Disease    0\n",
       "Diet_Quality                    0\n",
       "Stress_Level                    0\n",
       "Heart_Attack_History            0\n",
       "Medication_Usage                0\n",
       "Triglycerides_Level             0\n",
       "LDL_Level                       0\n",
       "HDL_Level                       0\n",
       "Heart_Attack_Outcome            0\n",
       "dtype: int64"
      ]
     },
     "execution_count": 3,
     "metadata": {},
     "output_type": "execute_result"
    }
   ],
   "source": [
    "#4. Data Preprocessing: check for missing values in the data using pandas isnull(), describe()\n",
    "#function to get some initial statistics. Provide variable descriptions. Types of variables etc.\n",
    "#Check the dimensions of the data frame.\n",
    "df.isnull().sum()    "
   ]
  },
  {
   "cell_type": "code",
   "execution_count": 4,
   "metadata": {},
   "outputs": [
    {
     "data": {
      "text/html": [
       "<div>\n",
       "<style scoped>\n",
       "    .dataframe tbody tr th:only-of-type {\n",
       "        vertical-align: middle;\n",
       "    }\n",
       "\n",
       "    .dataframe tbody tr th {\n",
       "        vertical-align: top;\n",
       "    }\n",
       "\n",
       "    .dataframe thead th {\n",
       "        text-align: right;\n",
       "    }\n",
       "</style>\n",
       "<table border=\"1\" class=\"dataframe\">\n",
       "  <thead>\n",
       "    <tr style=\"text-align: right;\">\n",
       "      <th></th>\n",
       "      <th>Patient_ID</th>\n",
       "      <th>Age</th>\n",
       "      <th>Cholesterol_Level</th>\n",
       "      <th>Blood_Pressure_Systolic</th>\n",
       "      <th>Blood_Pressure_Diastolic</th>\n",
       "      <th>Obesity_Index</th>\n",
       "      <th>Triglycerides_Level</th>\n",
       "      <th>LDL_Level</th>\n",
       "      <th>HDL_Level</th>\n",
       "      <th>Heart_Attack_Outcome</th>\n",
       "    </tr>\n",
       "  </thead>\n",
       "  <tbody>\n",
       "    <tr>\n",
       "      <th>count</th>\n",
       "      <td>100000.000000</td>\n",
       "      <td>100000.000000</td>\n",
       "      <td>100000.000000</td>\n",
       "      <td>100000.000000</td>\n",
       "      <td>100000.000000</td>\n",
       "      <td>100000.000000</td>\n",
       "      <td>100000.000000</td>\n",
       "      <td>100000.000000</td>\n",
       "      <td>100000.000000</td>\n",
       "      <td>100000.000000</td>\n",
       "    </tr>\n",
       "    <tr>\n",
       "      <th>mean</th>\n",
       "      <td>50000.500000</td>\n",
       "      <td>56.929210</td>\n",
       "      <td>224.578740</td>\n",
       "      <td>144.317750</td>\n",
       "      <td>89.591950</td>\n",
       "      <td>29.004788</td>\n",
       "      <td>174.629860</td>\n",
       "      <td>124.333400</td>\n",
       "      <td>49.547090</td>\n",
       "      <td>0.587320</td>\n",
       "    </tr>\n",
       "    <tr>\n",
       "      <th>std</th>\n",
       "      <td>28867.657797</td>\n",
       "      <td>18.776713</td>\n",
       "      <td>43.316257</td>\n",
       "      <td>31.759636</td>\n",
       "      <td>17.277238</td>\n",
       "      <td>6.343317</td>\n",
       "      <td>72.118654</td>\n",
       "      <td>43.340624</td>\n",
       "      <td>17.350927</td>\n",
       "      <td>0.492319</td>\n",
       "    </tr>\n",
       "    <tr>\n",
       "      <th>min</th>\n",
       "      <td>1.000000</td>\n",
       "      <td>25.000000</td>\n",
       "      <td>150.000000</td>\n",
       "      <td>90.000000</td>\n",
       "      <td>60.000000</td>\n",
       "      <td>18.000000</td>\n",
       "      <td>50.000000</td>\n",
       "      <td>50.000000</td>\n",
       "      <td>20.000000</td>\n",
       "      <td>0.000000</td>\n",
       "    </tr>\n",
       "    <tr>\n",
       "      <th>25%</th>\n",
       "      <td>25000.750000</td>\n",
       "      <td>41.000000</td>\n",
       "      <td>187.000000</td>\n",
       "      <td>117.000000</td>\n",
       "      <td>75.000000</td>\n",
       "      <td>23.500000</td>\n",
       "      <td>112.000000</td>\n",
       "      <td>87.000000</td>\n",
       "      <td>35.000000</td>\n",
       "      <td>0.000000</td>\n",
       "    </tr>\n",
       "    <tr>\n",
       "      <th>50%</th>\n",
       "      <td>50000.500000</td>\n",
       "      <td>57.000000</td>\n",
       "      <td>225.000000</td>\n",
       "      <td>144.000000</td>\n",
       "      <td>90.000000</td>\n",
       "      <td>29.000000</td>\n",
       "      <td>175.000000</td>\n",
       "      <td>124.000000</td>\n",
       "      <td>50.000000</td>\n",
       "      <td>1.000000</td>\n",
       "    </tr>\n",
       "    <tr>\n",
       "      <th>75%</th>\n",
       "      <td>75000.250000</td>\n",
       "      <td>73.000000</td>\n",
       "      <td>262.000000</td>\n",
       "      <td>172.000000</td>\n",
       "      <td>105.000000</td>\n",
       "      <td>34.500000</td>\n",
       "      <td>237.000000</td>\n",
       "      <td>162.000000</td>\n",
       "      <td>65.000000</td>\n",
       "      <td>1.000000</td>\n",
       "    </tr>\n",
       "    <tr>\n",
       "      <th>max</th>\n",
       "      <td>100000.000000</td>\n",
       "      <td>89.000000</td>\n",
       "      <td>299.000000</td>\n",
       "      <td>199.000000</td>\n",
       "      <td>119.000000</td>\n",
       "      <td>40.000000</td>\n",
       "      <td>299.000000</td>\n",
       "      <td>199.000000</td>\n",
       "      <td>79.000000</td>\n",
       "      <td>1.000000</td>\n",
       "    </tr>\n",
       "  </tbody>\n",
       "</table>\n",
       "</div>"
      ],
      "text/plain": [
       "          Patient_ID            Age  Cholesterol_Level  \\\n",
       "count  100000.000000  100000.000000      100000.000000   \n",
       "mean    50000.500000      56.929210         224.578740   \n",
       "std     28867.657797      18.776713          43.316257   \n",
       "min         1.000000      25.000000         150.000000   \n",
       "25%     25000.750000      41.000000         187.000000   \n",
       "50%     50000.500000      57.000000         225.000000   \n",
       "75%     75000.250000      73.000000         262.000000   \n",
       "max    100000.000000      89.000000         299.000000   \n",
       "\n",
       "       Blood_Pressure_Systolic  Blood_Pressure_Diastolic  Obesity_Index  \\\n",
       "count            100000.000000             100000.000000  100000.000000   \n",
       "mean                144.317750                 89.591950      29.004788   \n",
       "std                  31.759636                 17.277238       6.343317   \n",
       "min                  90.000000                 60.000000      18.000000   \n",
       "25%                 117.000000                 75.000000      23.500000   \n",
       "50%                 144.000000                 90.000000      29.000000   \n",
       "75%                 172.000000                105.000000      34.500000   \n",
       "max                 199.000000                119.000000      40.000000   \n",
       "\n",
       "       Triglycerides_Level      LDL_Level      HDL_Level  Heart_Attack_Outcome  \n",
       "count        100000.000000  100000.000000  100000.000000         100000.000000  \n",
       "mean            174.629860     124.333400      49.547090              0.587320  \n",
       "std              72.118654      43.340624      17.350927              0.492319  \n",
       "min              50.000000      50.000000      20.000000              0.000000  \n",
       "25%             112.000000      87.000000      35.000000              0.000000  \n",
       "50%             175.000000     124.000000      50.000000              1.000000  \n",
       "75%             237.000000     162.000000      65.000000              1.000000  \n",
       "max             299.000000     199.000000      79.000000              1.000000  "
      ]
     },
     "execution_count": 4,
     "metadata": {},
     "output_type": "execute_result"
    }
   ],
   "source": [
    "df.describe()"
   ]
  },
  {
   "cell_type": "code",
   "execution_count": 5,
   "metadata": {},
   "outputs": [
    {
     "data": {
      "text/plain": [
       "(100000, 20)"
      ]
     },
     "execution_count": 5,
     "metadata": {},
     "output_type": "execute_result"
    }
   ],
   "source": [
    "df.shape"
   ]
  },
  {
   "cell_type": "code",
   "execution_count": 6,
   "metadata": {},
   "outputs": [
    {
     "data": {
      "text/plain": [
       "Patient_ID                        int64\n",
       "Age                               int64\n",
       "Gender                           object\n",
       "Cholesterol_Level                 int64\n",
       "Blood_Pressure_Systolic           int64\n",
       "Blood_Pressure_Diastolic          int64\n",
       "Smoking_Status                   object\n",
       "Alcohol_Intake                   object\n",
       "Physical_Activity                object\n",
       "Obesity_Index                   float64\n",
       "Diabetes_Status                  object\n",
       "Family_History_Heart_Disease     object\n",
       "Diet_Quality                     object\n",
       "Stress_Level                     object\n",
       "Heart_Attack_History             object\n",
       "Medication_Usage                 object\n",
       "Triglycerides_Level               int64\n",
       "LDL_Level                         int64\n",
       "HDL_Level                         int64\n",
       "Heart_Attack_Outcome              int64\n",
       "dtype: object"
      ]
     },
     "execution_count": 6,
     "metadata": {},
     "output_type": "execute_result"
    }
   ],
   "source": [
    "df.dtypes"
   ]
  },
  {
   "cell_type": "code",
   "execution_count": 7,
   "metadata": {},
   "outputs": [],
   "source": [
    "#5. Data Formatting and Data Normalization: Summarize the types of variables by checking the\n",
    "#data types (i.e., character, numeric, integer, factor, and logical) of the variables in the data set.\n",
    "#If variables are not in the correct data type, apply proper type conversions.\n",
    "df['Patient_ID']= df['Patient_ID'].astype(float)\n",
    "df['Age']= df['Age'].astype(float)\n",
    "df['Cholesterol_Level']= df['Cholesterol_Level'].astype(float)\n",
    "df['Triglycerides_Level']= df['Triglycerides_Level'].astype(float)\n",
    "df['Blood_Pressure_Systolic']= df['Blood_Pressure_Systolic'].astype(float)\n",
    "df['Blood_Pressure_Diastolic']= df['Blood_Pressure_Diastolic'].astype(float)\n",
    "df['LDL_Level']= df['LDL_Level'].astype(float)\n",
    "df['HDL_Level']= df['HDL_Level'].astype(float)\n",
    "df['Heart_Attack_Outcome']= df['Heart_Attack_Outcome'].astype(float)\n"
   ]
  },
  {
   "cell_type": "code",
   "execution_count": 8,
   "metadata": {},
   "outputs": [
    {
     "data": {
      "text/plain": [
       "Patient_ID                      float64\n",
       "Age                             float64\n",
       "Gender                           object\n",
       "Cholesterol_Level               float64\n",
       "Blood_Pressure_Systolic         float64\n",
       "Blood_Pressure_Diastolic        float64\n",
       "Smoking_Status                   object\n",
       "Alcohol_Intake                   object\n",
       "Physical_Activity                object\n",
       "Obesity_Index                   float64\n",
       "Diabetes_Status                  object\n",
       "Family_History_Heart_Disease     object\n",
       "Diet_Quality                     object\n",
       "Stress_Level                     object\n",
       "Heart_Attack_History             object\n",
       "Medication_Usage                 object\n",
       "Triglycerides_Level             float64\n",
       "LDL_Level                       float64\n",
       "HDL_Level                       float64\n",
       "Heart_Attack_Outcome            float64\n",
       "dtype: object"
      ]
     },
     "execution_count": 8,
     "metadata": {},
     "output_type": "execute_result"
    }
   ],
   "source": [
    "df.dtypes"
   ]
  },
  {
   "cell_type": "code",
   "execution_count": 9,
   "metadata": {},
   "outputs": [],
   "source": [
    "#6. Turn categorical variables into quantitative variables in Python using label encoding\n",
    "df['Gender'] = df['Gender'].astype('category').cat.codes"
   ]
  },
  {
   "cell_type": "code",
   "execution_count": 4,
   "metadata": {},
   "outputs": [
    {
     "data": {
      "text/plain": [
       "0        0\n",
       "1        0\n",
       "2        1\n",
       "3        0\n",
       "4        1\n",
       "        ..\n",
       "99995    0\n",
       "99996    1\n",
       "99997    0\n",
       "99998    1\n",
       "99999    1\n",
       "Name: Gender, Length: 100000, dtype: int8"
      ]
     },
     "execution_count": 4,
     "metadata": {},
     "output_type": "execute_result"
    }
   ],
   "source": [
    "df['Gender']"
   ]
  }
 ],
 "metadata": {
  "kernelspec": {
   "display_name": "Python 3",
   "language": "python",
   "name": "python3"
  },
  "language_info": {
   "codemirror_mode": {
    "name": "ipython",
    "version": 3
   },
   "file_extension": ".py",
   "mimetype": "text/x-python",
   "name": "python",
   "nbconvert_exporter": "python",
   "pygments_lexer": "ipython3",
   "version": "3.12.6"
  }
 },
 "nbformat": 4,
 "nbformat_minor": 2
}
