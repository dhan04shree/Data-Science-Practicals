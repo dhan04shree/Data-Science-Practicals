{
 "cells": [
  {
   "cell_type": "markdown",
   "metadata": {},
   "source": [
    "Data Wrangling II\n",
    "\n",
    "Create an “Academic performance” dataset of students and perform the following operations using\n",
    "Python.\n",
    "1. Scan all variables for missing values and inconsistencies. If there are missing values and/or\n",
    "inconsistencies, use any of the suitable techniques to deal with them.\n",
    "2. Scan all numeric variables for outliers. If there are outliers, use any of the suitable techniques\n",
    "to deal with them.\n",
    "3. Apply data transformations on at least one of the variables. The purpose of this\n",
    "transformation should be one of the following reasons: to change the scale for better\n",
    "understanding of the variable, to convert a non-linear relation into a linear one, or to decrease\n",
    "the skewness and convert the distribution into a normal distribution.\n"
   ]
  },
  {
   "cell_type": "code",
   "execution_count": 191,
   "metadata": {},
   "outputs": [
    {
     "name": "stdout",
     "output_type": "stream",
     "text": [
      "    s_id s_name grade  attendance\n",
      "0   10.0    abc     A        31.0\n",
      "1    1.0    efg     A        40.0\n",
      "2    NaN    hyj     F        32.0\n",
      "3    4.0    klm    A+        30.0\n",
      "4    7.0    nop    B+         NaN\n",
      "5    1.0    iod     F        34.0\n",
      "6    3.0    dfg     P        39.0\n",
      "7    NaN    abc     A       100.0\n",
      "8    6.0    dgf     B        35.0\n",
      "9    5.0    hyj     F        30.0\n",
      "10   2.0    gsb    A+        41.0\n",
      "11   8.0    nop    B+         NaN\n",
      "12   NaN    iod     F        35.0\n",
      "13  10.0    dfg     P        34.0\n",
      "14   3.0    abc     A        30.0\n",
      "15   4.0    efg     B        31.0\n",
      "16   5.0    hyj     F        32.0\n",
      "17   6.0    klm    A+         NaN\n",
      "18   7.0    nop    B+        36.0\n"
     ]
    }
   ],
   "source": [
    "import pandas as pd\n",
    "data = {\n",
    "    \"s_id\" : [10,1,None,4,7,1,3,None,6,5,2,8,None,10,3,4,5,6,7,],\n",
    "    \"s_name\":[\"abc\",\"efg\",\"hyj\",\"klm\",\"nop\",\"iod\",\"dfg\",\"abc\",\"dgf\",\"hyj\",\"gsb\",\"nop\",\"iod\",\"dfg\",\"abc\",\"efg\",\"hyj\",\"klm\",\"nop\",],\n",
    "    \"grade\":[\"A\",\"A\",\"F\",\"A+\",\"B+\",\"F\",\"P\",\"A\",\"B\",\"F\",\"A+\",\"B+\",\"F\",\"P\",\"A\",\"B\",\"F\",\"A+\",\"B+\",],\n",
    "    \"attendance\":[31,40,32,30,None,34,39,100,35,30,41,None,35,34,30,31,32,None,36],\n",
    "}\n",
    "df = pd.DataFrame(data)\n",
    "print(df)"
   ]
  },
  {
   "cell_type": "code",
   "execution_count": 192,
   "metadata": {},
   "outputs": [
    {
     "data": {
      "text/plain": [
       "(19, 4)"
      ]
     },
     "execution_count": 192,
     "metadata": {},
     "output_type": "execute_result"
    }
   ],
   "source": [
    "df.shape"
   ]
  },
  {
   "cell_type": "code",
   "execution_count": 193,
   "metadata": {},
   "outputs": [
    {
     "data": {
      "text/html": [
       "<div>\n",
       "<style scoped>\n",
       "    .dataframe tbody tr th:only-of-type {\n",
       "        vertical-align: middle;\n",
       "    }\n",
       "\n",
       "    .dataframe tbody tr th {\n",
       "        vertical-align: top;\n",
       "    }\n",
       "\n",
       "    .dataframe thead th {\n",
       "        text-align: right;\n",
       "    }\n",
       "</style>\n",
       "<table border=\"1\" class=\"dataframe\">\n",
       "  <thead>\n",
       "    <tr style=\"text-align: right;\">\n",
       "      <th></th>\n",
       "      <th>s_id</th>\n",
       "      <th>attendance</th>\n",
       "    </tr>\n",
       "  </thead>\n",
       "  <tbody>\n",
       "    <tr>\n",
       "      <th>count</th>\n",
       "      <td>16.000000</td>\n",
       "      <td>16.000000</td>\n",
       "    </tr>\n",
       "    <tr>\n",
       "      <th>mean</th>\n",
       "      <td>5.125000</td>\n",
       "      <td>38.125000</td>\n",
       "    </tr>\n",
       "    <tr>\n",
       "      <th>std</th>\n",
       "      <td>2.825479</td>\n",
       "      <td>16.879475</td>\n",
       "    </tr>\n",
       "    <tr>\n",
       "      <th>min</th>\n",
       "      <td>1.000000</td>\n",
       "      <td>30.000000</td>\n",
       "    </tr>\n",
       "    <tr>\n",
       "      <th>25%</th>\n",
       "      <td>3.000000</td>\n",
       "      <td>31.000000</td>\n",
       "    </tr>\n",
       "    <tr>\n",
       "      <th>50%</th>\n",
       "      <td>5.000000</td>\n",
       "      <td>34.000000</td>\n",
       "    </tr>\n",
       "    <tr>\n",
       "      <th>75%</th>\n",
       "      <td>7.000000</td>\n",
       "      <td>36.750000</td>\n",
       "    </tr>\n",
       "    <tr>\n",
       "      <th>max</th>\n",
       "      <td>10.000000</td>\n",
       "      <td>100.000000</td>\n",
       "    </tr>\n",
       "  </tbody>\n",
       "</table>\n",
       "</div>"
      ],
      "text/plain": [
       "            s_id  attendance\n",
       "count  16.000000   16.000000\n",
       "mean    5.125000   38.125000\n",
       "std     2.825479   16.879475\n",
       "min     1.000000   30.000000\n",
       "25%     3.000000   31.000000\n",
       "50%     5.000000   34.000000\n",
       "75%     7.000000   36.750000\n",
       "max    10.000000  100.000000"
      ]
     },
     "execution_count": 193,
     "metadata": {},
     "output_type": "execute_result"
    }
   ],
   "source": [
    "df.describe()"
   ]
  },
  {
   "cell_type": "code",
   "execution_count": 194,
   "metadata": {},
   "outputs": [
    {
     "data": {
      "text/plain": [
       "s_id          3\n",
       "s_name        0\n",
       "grade         0\n",
       "attendance    3\n",
       "dtype: int64"
      ]
     },
     "execution_count": 194,
     "metadata": {},
     "output_type": "execute_result"
    }
   ],
   "source": [
    "#1. Scan all variables for missing values and inconsistencies. If there are missing values and/or\n",
    "#inconsistencies, use any of the suitable techniques to deal with them.\n",
    "\n",
    "df.isnull().sum()"
   ]
  },
  {
   "cell_type": "code",
   "execution_count": 195,
   "metadata": {},
   "outputs": [
    {
     "name": "stderr",
     "output_type": "stream",
     "text": [
      "C:\\Users\\dhans\\AppData\\Local\\Temp\\ipykernel_19552\\306091519.py:1: FutureWarning: A value is trying to be set on a copy of a DataFrame or Series through chained assignment using an inplace method.\n",
      "The behavior will change in pandas 3.0. This inplace method will never work because the intermediate object on which we are setting values always behaves as a copy.\n",
      "\n",
      "For example, when doing 'df[col].method(value, inplace=True)', try using 'df.method({col: value}, inplace=True)' or df[col] = df[col].method(value) instead, to perform the operation inplace on the original object.\n",
      "\n",
      "\n",
      "  df['s_id'].fillna(0, inplace=True)\n",
      "C:\\Users\\dhans\\AppData\\Local\\Temp\\ipykernel_19552\\306091519.py:2: FutureWarning: A value is trying to be set on a copy of a DataFrame or Series through chained assignment using an inplace method.\n",
      "The behavior will change in pandas 3.0. This inplace method will never work because the intermediate object on which we are setting values always behaves as a copy.\n",
      "\n",
      "For example, when doing 'df[col].method(value, inplace=True)', try using 'df.method({col: value}, inplace=True)' or df[col] = df[col].method(value) instead, to perform the operation inplace on the original object.\n",
      "\n",
      "\n",
      "  df['attendance'].ffill(inplace=True)\n"
     ]
    }
   ],
   "source": [
    "df['s_id'].fillna(0, inplace=True)\n",
    "df['attendance'].ffill(inplace=True)"
   ]
  },
  {
   "cell_type": "code",
   "execution_count": 196,
   "metadata": {},
   "outputs": [
    {
     "data": {
      "text/plain": [
       "s_id          0\n",
       "s_name        0\n",
       "grade         0\n",
       "attendance    0\n",
       "dtype: int64"
      ]
     },
     "execution_count": 196,
     "metadata": {},
     "output_type": "execute_result"
    }
   ],
   "source": [
    "df.isnull().sum()"
   ]
  },
  {
   "cell_type": "code",
   "execution_count": 197,
   "metadata": {},
   "outputs": [
    {
     "name": "stdout",
     "output_type": "stream",
     "text": [
      "Skewness of 'attendance' before transformation: 3.9446908403405865\n"
     ]
    },
    {
     "data": {
      "image/png": "[encoded data removed]",
      "text/plain": [
       "<Figure size 640x480 with 1 Axes>"
      ]
     },
     "metadata": {},
     "output_type": "display_data"
    },
    {
     "name": "stdout",
     "output_type": "stream",
     "text": [
      "Skewness of 'attendance' after transformation: 3.3048639851261035\n"
     ]
    },
    {
     "data": {
      "image/png": "[encoded data removed]",
      "text/plain": [
       "<Figure size 640x480 with 1 Axes>"
      ]
     },
     "metadata": {},
     "output_type": "display_data"
    }
   ],
   "source": [
    "# 3. Apply data transformations on at least one of the variables. The purpose of this\n",
    "# transformation should be one of the following reasons: to change the scale for better\n",
    "# understanding of the variable, to convert a non-linear relation into a linear one, or to decrease\n",
    "# the skewness and convert the distribution into a normal distribution.\n",
    "\n",
    "print(f\"Skewness of 'attendance' before transformation: {df['attendance'].skew()}\")\n",
    "import matplotlib.pyplot as plt\n",
    "plt.hist(df['attendance'],color=\"yellow\",edgecolor=\"black\")\n",
    "plt.title(\"Original Attendence Distribution\")\n",
    "plt.show()\n",
    "import numpy as np\n",
    "df['attendance_transformed'] = np.log1p(df['attendance'])\n",
    "print(f\"Skewness of 'attendance' after transformation: {df['attendance_transformed'].skew()}\")\n",
    "plt.hist(df['attendance_transformed'],color=\"yellow\",edgecolor=\"black\")\n",
    "plt.title(\"Log-Transformed Distribution\")\n",
    "plt.show()"
   ]
  },
  {
   "cell_type": "code",
   "execution_count": 198,
   "metadata": {},
   "outputs": [
    {
     "data": {
      "image/png": "[encoded data removed]",
      "text/plain": [
       "<Figure size 600x400 with 1 Axes>"
      ]
     },
     "metadata": {},
     "output_type": "display_data"
    }
   ],
   "source": [
    "import matplotlib.pyplot as plt\n",
    "import seaborn as sns\n",
    "\n",
    "plt.figure(figsize=(6, 4))\n",
    "sns.boxplot(y=df['attendance'])\n",
    "plt.title(\"Boxplot of Attendance (Outliers appear as dots)\")\n",
    "plt.show()\n"
   ]
  },
  {
   "cell_type": "code",
   "execution_count": 199,
   "metadata": {},
   "outputs": [
    {
     "data": {
      "text/html": [
       "<div>\n",
       "<style scoped>\n",
       "    .dataframe tbody tr th:only-of-type {\n",
       "        vertical-align: middle;\n",
       "    }\n",
       "\n",
       "    .dataframe tbody tr th {\n",
       "        vertical-align: top;\n",
       "    }\n",
       "\n",
       "    .dataframe thead th {\n",
       "        text-align: right;\n",
       "    }\n",
       "</style>\n",
       "<table border=\"1\" class=\"dataframe\">\n",
       "  <thead>\n",
       "    <tr style=\"text-align: right;\">\n",
       "      <th></th>\n",
       "      <th>s_id</th>\n",
       "      <th>s_name</th>\n",
       "      <th>grade</th>\n",
       "      <th>attendance</th>\n",
       "      <th>attendance_transformed</th>\n",
       "      <th>z_score</th>\n",
       "      <th>is_outlier</th>\n",
       "    </tr>\n",
       "  </thead>\n",
       "  <tbody>\n",
       "    <tr>\n",
       "      <th>0</th>\n",
       "      <td>10.0</td>\n",
       "      <td>abc</td>\n",
       "      <td>A</td>\n",
       "      <td>31.0</td>\n",
       "      <td>3.465736</td>\n",
       "      <td>-0.418437</td>\n",
       "      <td>False</td>\n",
       "    </tr>\n",
       "    <tr>\n",
       "      <th>1</th>\n",
       "      <td>1.0</td>\n",
       "      <td>efg</td>\n",
       "      <td>A</td>\n",
       "      <td>40.0</td>\n",
       "      <td>3.713572</td>\n",
       "      <td>0.158601</td>\n",
       "      <td>False</td>\n",
       "    </tr>\n",
       "    <tr>\n",
       "      <th>2</th>\n",
       "      <td>0.0</td>\n",
       "      <td>hyj</td>\n",
       "      <td>F</td>\n",
       "      <td>32.0</td>\n",
       "      <td>3.496508</td>\n",
       "      <td>-0.354322</td>\n",
       "      <td>False</td>\n",
       "    </tr>\n",
       "    <tr>\n",
       "      <th>3</th>\n",
       "      <td>4.0</td>\n",
       "      <td>klm</td>\n",
       "      <td>A+</td>\n",
       "      <td>30.0</td>\n",
       "      <td>3.433987</td>\n",
       "      <td>-0.482552</td>\n",
       "      <td>False</td>\n",
       "    </tr>\n",
       "    <tr>\n",
       "      <th>4</th>\n",
       "      <td>7.0</td>\n",
       "      <td>nop</td>\n",
       "      <td>B+</td>\n",
       "      <td>30.0</td>\n",
       "      <td>3.433987</td>\n",
       "      <td>-0.482552</td>\n",
       "      <td>False</td>\n",
       "    </tr>\n",
       "    <tr>\n",
       "      <th>5</th>\n",
       "      <td>1.0</td>\n",
       "      <td>iod</td>\n",
       "      <td>F</td>\n",
       "      <td>34.0</td>\n",
       "      <td>3.555348</td>\n",
       "      <td>-0.226091</td>\n",
       "      <td>False</td>\n",
       "    </tr>\n",
       "    <tr>\n",
       "      <th>6</th>\n",
       "      <td>3.0</td>\n",
       "      <td>dfg</td>\n",
       "      <td>P</td>\n",
       "      <td>39.0</td>\n",
       "      <td>3.688879</td>\n",
       "      <td>0.094486</td>\n",
       "      <td>False</td>\n",
       "    </tr>\n",
       "    <tr>\n",
       "      <th>8</th>\n",
       "      <td>6.0</td>\n",
       "      <td>dgf</td>\n",
       "      <td>B</td>\n",
       "      <td>35.0</td>\n",
       "      <td>3.583519</td>\n",
       "      <td>-0.161976</td>\n",
       "      <td>False</td>\n",
       "    </tr>\n",
       "    <tr>\n",
       "      <th>9</th>\n",
       "      <td>5.0</td>\n",
       "      <td>hyj</td>\n",
       "      <td>F</td>\n",
       "      <td>30.0</td>\n",
       "      <td>3.433987</td>\n",
       "      <td>-0.482552</td>\n",
       "      <td>False</td>\n",
       "    </tr>\n",
       "    <tr>\n",
       "      <th>10</th>\n",
       "      <td>2.0</td>\n",
       "      <td>gsb</td>\n",
       "      <td>A+</td>\n",
       "      <td>41.0</td>\n",
       "      <td>3.737670</td>\n",
       "      <td>0.222716</td>\n",
       "      <td>False</td>\n",
       "    </tr>\n",
       "    <tr>\n",
       "      <th>11</th>\n",
       "      <td>8.0</td>\n",
       "      <td>nop</td>\n",
       "      <td>B+</td>\n",
       "      <td>41.0</td>\n",
       "      <td>3.737670</td>\n",
       "      <td>0.222716</td>\n",
       "      <td>False</td>\n",
       "    </tr>\n",
       "    <tr>\n",
       "      <th>12</th>\n",
       "      <td>0.0</td>\n",
       "      <td>iod</td>\n",
       "      <td>F</td>\n",
       "      <td>35.0</td>\n",
       "      <td>3.583519</td>\n",
       "      <td>-0.161976</td>\n",
       "      <td>False</td>\n",
       "    </tr>\n",
       "    <tr>\n",
       "      <th>13</th>\n",
       "      <td>10.0</td>\n",
       "      <td>dfg</td>\n",
       "      <td>P</td>\n",
       "      <td>34.0</td>\n",
       "      <td>3.555348</td>\n",
       "      <td>-0.226091</td>\n",
       "      <td>False</td>\n",
       "    </tr>\n",
       "    <tr>\n",
       "      <th>14</th>\n",
       "      <td>3.0</td>\n",
       "      <td>abc</td>\n",
       "      <td>A</td>\n",
       "      <td>30.0</td>\n",
       "      <td>3.433987</td>\n",
       "      <td>-0.482552</td>\n",
       "      <td>False</td>\n",
       "    </tr>\n",
       "    <tr>\n",
       "      <th>15</th>\n",
       "      <td>4.0</td>\n",
       "      <td>efg</td>\n",
       "      <td>B</td>\n",
       "      <td>31.0</td>\n",
       "      <td>3.465736</td>\n",
       "      <td>-0.418437</td>\n",
       "      <td>False</td>\n",
       "    </tr>\n",
       "    <tr>\n",
       "      <th>16</th>\n",
       "      <td>5.0</td>\n",
       "      <td>hyj</td>\n",
       "      <td>F</td>\n",
       "      <td>32.0</td>\n",
       "      <td>3.496508</td>\n",
       "      <td>-0.354322</td>\n",
       "      <td>False</td>\n",
       "    </tr>\n",
       "    <tr>\n",
       "      <th>17</th>\n",
       "      <td>6.0</td>\n",
       "      <td>klm</td>\n",
       "      <td>A+</td>\n",
       "      <td>32.0</td>\n",
       "      <td>3.496508</td>\n",
       "      <td>-0.354322</td>\n",
       "      <td>False</td>\n",
       "    </tr>\n",
       "    <tr>\n",
       "      <th>18</th>\n",
       "      <td>7.0</td>\n",
       "      <td>nop</td>\n",
       "      <td>B+</td>\n",
       "      <td>36.0</td>\n",
       "      <td>3.610918</td>\n",
       "      <td>-0.097860</td>\n",
       "      <td>False</td>\n",
       "    </tr>\n",
       "  </tbody>\n",
       "</table>\n",
       "</div>"
      ],
      "text/plain": [
       "    s_id s_name grade  attendance  attendance_transformed   z_score  \\\n",
       "0   10.0    abc     A        31.0                3.465736 -0.418437   \n",
       "1    1.0    efg     A        40.0                3.713572  0.158601   \n",
       "2    0.0    hyj     F        32.0                3.496508 -0.354322   \n",
       "3    4.0    klm    A+        30.0                3.433987 -0.482552   \n",
       "4    7.0    nop    B+        30.0                3.433987 -0.482552   \n",
       "5    1.0    iod     F        34.0                3.555348 -0.226091   \n",
       "6    3.0    dfg     P        39.0                3.688879  0.094486   \n",
       "8    6.0    dgf     B        35.0                3.583519 -0.161976   \n",
       "9    5.0    hyj     F        30.0                3.433987 -0.482552   \n",
       "10   2.0    gsb    A+        41.0                3.737670  0.222716   \n",
       "11   8.0    nop    B+        41.0                3.737670  0.222716   \n",
       "12   0.0    iod     F        35.0                3.583519 -0.161976   \n",
       "13  10.0    dfg     P        34.0                3.555348 -0.226091   \n",
       "14   3.0    abc     A        30.0                3.433987 -0.482552   \n",
       "15   4.0    efg     B        31.0                3.465736 -0.418437   \n",
       "16   5.0    hyj     F        32.0                3.496508 -0.354322   \n",
       "17   6.0    klm    A+        32.0                3.496508 -0.354322   \n",
       "18   7.0    nop    B+        36.0                3.610918 -0.097860   \n",
       "\n",
       "    is_outlier  \n",
       "0        False  \n",
       "1        False  \n",
       "2        False  \n",
       "3        False  \n",
       "4        False  \n",
       "5        False  \n",
       "6        False  \n",
       "8        False  \n",
       "9        False  \n",
       "10       False  \n",
       "11       False  \n",
       "12       False  \n",
       "13       False  \n",
       "14       False  \n",
       "15       False  \n",
       "16       False  \n",
       "17       False  \n",
       "18       False  "
      ]
     },
     "execution_count": 199,
     "metadata": {},
     "output_type": "execute_result"
    }
   ],
   "source": [
    "# 2. Scan all numeric variables for outliers. If there are outliers, use any of the suitable techniques\n",
    "# to deal with them\n",
    "mean_att = df['attendance'].mean()\n",
    "std_att = df['attendance'].std()\n",
    "\n",
    "df['z_score'] = (df['attendance'] - mean_att)/std_att\n",
    "\n",
    "# Step 3: Set threshold and detect outliers (e.g., Z-score > 3 or < -3)\n",
    "df['is_outlier'] = df['z_score'].abs() > 1\n",
    "# df['is_outlier']\n",
    "# Step 4: Filter out outliers if needed\n",
    "df_cleaned = df[~df['is_outlier']].copy()\n",
    "df_cleaned\n",
    "\n"
   ]
  }
 ],
 "metadata": {
  "kernelspec": {
   "display_name": "Python 3",
   "language": "python",
   "name": "python3"
  },
  "language_info": {
   "codemirror_mode": {
    "name": "ipython",
    "version": 3
   },
   "file_extension": ".py",
   "mimetype": "text/x-python",
   "name": "python",
   "nbconvert_exporter": "python",
   "pygments_lexer": "ipython3",
   "version": "3.12.6"
  }
 },
 "nbformat": 4,
 "nbformat_minor": 2
}
